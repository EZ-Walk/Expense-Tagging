{
 "cells": [
  {
   "cell_type": "code",
   "execution_count": 1,
   "metadata": {},
   "outputs": [],
   "source": [
    "import pandas as pd\n",
    "import os\n",
    "import numpy as np\n",
    "\n",
    "pd.set_option('display.max_columns', 20)"
   ]
  },
  {
   "cell_type": "code",
   "execution_count": 2,
   "metadata": {},
   "outputs": [
    {
     "name": "stdout",
     "output_type": "stream",
     "text": [
      "Data cleaning\n",
      "Current working directory: /Users/ethanwalker/Documents/Projects/Expense-Tagging\n",
      "['AccountHistory (1).csv']\n"
     ]
    }
   ],
   "source": [
    "\n",
    "# 1. Read in the files\n",
    "print('Data cleaning')\n",
    "print('Current working directory:', os.getcwd())\n",
    "raw_files = os.listdir('data/raw')\n",
    "print(raw_files)\n"
   ]
  },
  {
   "cell_type": "code",
   "execution_count": 9,
   "metadata": {},
   "outputs": [
    {
     "name": "stdout",
     "output_type": "stream",
     "text": [
      "Data shape: (3509, 8)\n",
      "   Account Number  Post Date  Check  \\\n",
      "0       443091309  4/27/2024    NaN   \n",
      "1       443091309  4/25/2024    NaN   \n",
      "2       443091309  4/27/2024    NaN   \n",
      "3       443091309  4/27/2024    NaN   \n",
      "4       443091309  4/27/2024    NaN   \n",
      "\n",
      "                                         Description  Debit  Credit   Status  \\\n",
      "0             GITHUB, INC.       +18774484820   CAUS  10.00     NaN  Pending   \n",
      "1             LIME*RIDE          +18885463345   CAUS   4.44     NaN  Pending   \n",
      "2                           Deposit weekly allowance    NaN   120.0   Posted   \n",
      "3  Point Of Sale Withdrawal MASABI_RTD 1600 Blake...   2.70     NaN   Posted   \n",
      "4  Point Of Sale Withdrawal SQ *CURTIS PARK 2532 ...  19.24     NaN   Posted   \n",
      "\n",
      "   Balance  \n",
      "0      NaN  \n",
      "1      NaN  \n",
      "2   116.43  \n",
      "3    -3.57  \n",
      "4    -0.87  \n"
     ]
    }
   ],
   "source": [
    "\n",
    "raw_data = pd.DataFrame()\n",
    "for file in raw_files:\n",
    "    raw_data = raw_data.append(pd.read_csv('data/raw/' + file), ignore_index=True)\n",
    "print('Data shape:', raw_data.shape)\n",
    "print(raw_data.head())"
   ]
  },
  {
   "cell_type": "code",
   "execution_count": 13,
   "metadata": {},
   "outputs": [
    {
     "name": "stdout",
     "output_type": "stream",
     "text": [
      "Data shape: (2726, 8)\n"
     ]
    },
    {
     "data": {
      "text/html": [
       "<div>\n",
       "<style scoped>\n",
       "    .dataframe tbody tr th:only-of-type {\n",
       "        vertical-align: middle;\n",
       "    }\n",
       "\n",
       "    .dataframe tbody tr th {\n",
       "        vertical-align: top;\n",
       "    }\n",
       "\n",
       "    .dataframe thead th {\n",
       "        text-align: right;\n",
       "    }\n",
       "</style>\n",
       "<table border=\"1\" class=\"dataframe\">\n",
       "  <thead>\n",
       "    <tr style=\"text-align: right;\">\n",
       "      <th></th>\n",
       "      <th>Account Number</th>\n",
       "      <th>Post Date</th>\n",
       "      <th>Check</th>\n",
       "      <th>Description</th>\n",
       "      <th>Debit</th>\n",
       "      <th>Credit</th>\n",
       "      <th>Status</th>\n",
       "      <th>Balance</th>\n",
       "    </tr>\n",
       "  </thead>\n",
       "  <tbody>\n",
       "    <tr>\n",
       "      <th>3</th>\n",
       "      <td>443091309</td>\n",
       "      <td>4/27/2024</td>\n",
       "      <td>NaN</td>\n",
       "      <td>Point Of Sale Withdrawal MASABI_RTD 1600 Blake...</td>\n",
       "      <td>2.70</td>\n",
       "      <td>NaN</td>\n",
       "      <td>Posted</td>\n",
       "      <td>-3.57</td>\n",
       "    </tr>\n",
       "    <tr>\n",
       "      <th>4</th>\n",
       "      <td>443091309</td>\n",
       "      <td>4/27/2024</td>\n",
       "      <td>NaN</td>\n",
       "      <td>Point Of Sale Withdrawal SQ *CURTIS PARK 2532 ...</td>\n",
       "      <td>19.24</td>\n",
       "      <td>NaN</td>\n",
       "      <td>Posted</td>\n",
       "      <td>-0.87</td>\n",
       "    </tr>\n",
       "    <tr>\n",
       "      <th>5</th>\n",
       "      <td>443091309</td>\n",
       "      <td>4/27/2024</td>\n",
       "      <td>NaN</td>\n",
       "      <td>Point Of Sale Withdrawal SQ *CURTIS PARK 2532 ...</td>\n",
       "      <td>2.75</td>\n",
       "      <td>NaN</td>\n",
       "      <td>Posted</td>\n",
       "      <td>18.37</td>\n",
       "    </tr>\n",
       "    <tr>\n",
       "      <th>6</th>\n",
       "      <td>443091309</td>\n",
       "      <td>4/26/2024</td>\n",
       "      <td>NaN</td>\n",
       "      <td>Point Of Sale Withdrawal TST* FAMOUS ORI 713 E...</td>\n",
       "      <td>10.80</td>\n",
       "      <td>NaN</td>\n",
       "      <td>Posted</td>\n",
       "      <td>21.12</td>\n",
       "    </tr>\n",
       "    <tr>\n",
       "      <th>7</th>\n",
       "      <td>443091309</td>\n",
       "      <td>4/26/2024</td>\n",
       "      <td>NaN</td>\n",
       "      <td>External Withdrawal PAYPAL INSTANT TRANSFER - ...</td>\n",
       "      <td>60.00</td>\n",
       "      <td>NaN</td>\n",
       "      <td>Posted</td>\n",
       "      <td>31.92</td>\n",
       "    </tr>\n",
       "  </tbody>\n",
       "</table>\n",
       "</div>"
      ],
      "text/plain": [
       "   Account Number  Post Date  Check  \\\n",
       "3       443091309  4/27/2024    NaN   \n",
       "4       443091309  4/27/2024    NaN   \n",
       "5       443091309  4/27/2024    NaN   \n",
       "6       443091309  4/26/2024    NaN   \n",
       "7       443091309  4/26/2024    NaN   \n",
       "\n",
       "                                         Description  Debit  Credit  Status  \\\n",
       "3  Point Of Sale Withdrawal MASABI_RTD 1600 Blake...   2.70     NaN  Posted   \n",
       "4  Point Of Sale Withdrawal SQ *CURTIS PARK 2532 ...  19.24     NaN  Posted   \n",
       "5  Point Of Sale Withdrawal SQ *CURTIS PARK 2532 ...   2.75     NaN  Posted   \n",
       "6  Point Of Sale Withdrawal TST* FAMOUS ORI 713 E...  10.80     NaN  Posted   \n",
       "7  External Withdrawal PAYPAL INSTANT TRANSFER - ...  60.00     NaN  Posted   \n",
       "\n",
       "   Balance  \n",
       "3    -3.57  \n",
       "4    -0.87  \n",
       "5    18.37  \n",
       "6    21.12  \n",
       "7    31.92  "
      ]
     },
     "execution_count": 13,
     "metadata": {},
     "output_type": "execute_result"
    }
   ],
   "source": [
    "# 2. keep only rows with Debit!=NaN, Status=Posted, and Account Number == 4430913\n",
    "raw_data = raw_data[raw_data['Debit'].notnull()]\n",
    "raw_data = raw_data[raw_data['Status'] == 'Posted']\n",
    "raw_data = raw_data[raw_data['Account Number'] == 443091309]\n",
    "print('Data shape:', raw_data.shape)\n",
    "raw_data.head()"
   ]
  },
  {
   "cell_type": "code",
   "execution_count": 21,
   "metadata": {},
   "outputs": [
    {
     "name": "stdout",
     "output_type": "stream",
     "text": [
      "Data shape: (2726, 3)\n"
     ]
    },
    {
     "data": {
      "text/html": [
       "<div>\n",
       "<style scoped>\n",
       "    .dataframe tbody tr th:only-of-type {\n",
       "        vertical-align: middle;\n",
       "    }\n",
       "\n",
       "    .dataframe tbody tr th {\n",
       "        vertical-align: top;\n",
       "    }\n",
       "\n",
       "    .dataframe thead th {\n",
       "        text-align: right;\n",
       "    }\n",
       "</style>\n",
       "<table border=\"1\" class=\"dataframe\">\n",
       "  <thead>\n",
       "    <tr style=\"text-align: right;\">\n",
       "      <th></th>\n",
       "      <th>Post Date</th>\n",
       "      <th>Description</th>\n",
       "      <th>Debit</th>\n",
       "    </tr>\n",
       "  </thead>\n",
       "  <tbody>\n",
       "    <tr>\n",
       "      <th>3</th>\n",
       "      <td>4/27/2024</td>\n",
       "      <td>Point Of Sale Withdrawal MASABI_RTD 1600 Blake...</td>\n",
       "      <td>2.70</td>\n",
       "    </tr>\n",
       "    <tr>\n",
       "      <th>4</th>\n",
       "      <td>4/27/2024</td>\n",
       "      <td>Point Of Sale Withdrawal SQ *CURTIS PARK 2532 ...</td>\n",
       "      <td>19.24</td>\n",
       "    </tr>\n",
       "    <tr>\n",
       "      <th>5</th>\n",
       "      <td>4/27/2024</td>\n",
       "      <td>Point Of Sale Withdrawal SQ *CURTIS PARK 2532 ...</td>\n",
       "      <td>2.75</td>\n",
       "    </tr>\n",
       "    <tr>\n",
       "      <th>6</th>\n",
       "      <td>4/26/2024</td>\n",
       "      <td>Point Of Sale Withdrawal TST* FAMOUS ORI 713 E...</td>\n",
       "      <td>10.80</td>\n",
       "    </tr>\n",
       "    <tr>\n",
       "      <th>7</th>\n",
       "      <td>4/26/2024</td>\n",
       "      <td>External Withdrawal PAYPAL INSTANT TRANSFER - ...</td>\n",
       "      <td>60.00</td>\n",
       "    </tr>\n",
       "  </tbody>\n",
       "</table>\n",
       "</div>"
      ],
      "text/plain": [
       "   Post Date                                        Description  Debit\n",
       "3  4/27/2024  Point Of Sale Withdrawal MASABI_RTD 1600 Blake...   2.70\n",
       "4  4/27/2024  Point Of Sale Withdrawal SQ *CURTIS PARK 2532 ...  19.24\n",
       "5  4/27/2024  Point Of Sale Withdrawal SQ *CURTIS PARK 2532 ...   2.75\n",
       "6  4/26/2024  Point Of Sale Withdrawal TST* FAMOUS ORI 713 E...  10.80\n",
       "7  4/26/2024  External Withdrawal PAYPAL INSTANT TRANSFER - ...  60.00"
      ]
     },
     "execution_count": 21,
     "metadata": {},
     "output_type": "execute_result"
    }
   ],
   "source": [
    "# 3. keep only the desired columns\n",
    "data = raw_data[['Post Date', 'Description', 'Debit']]\n",
    "print('Data shape:', data.shape)\n",
    "data.head()"
   ]
  },
  {
   "cell_type": "code",
   "execution_count": 22,
   "metadata": {},
   "outputs": [
    {
     "name": "stderr",
     "output_type": "stream",
     "text": [
      "/var/folders/kd/x3brfgln0ng5q695bs9wjnkc0000gn/T/ipykernel_48207/1382544161.py:2: SettingWithCopyWarning: \n",
      "A value is trying to be set on a copy of a slice from a DataFrame.\n",
      "Try using .loc[row_indexer,col_indexer] = value instead\n",
      "\n",
      "See the caveats in the documentation: https://pandas.pydata.org/pandas-docs/stable/user_guide/indexing.html#returning-a-view-versus-a-copy\n",
      "  data['Post Date'] = data['Post Date'].astype('datetime64')\n",
      "/Users/ethanwalker/opt/anaconda3/envs/DS/lib/python3.8/site-packages/pandas/core/frame.py:4438: SettingWithCopyWarning: \n",
      "A value is trying to be set on a copy of a slice from a DataFrame\n",
      "\n",
      "See the caveats in the documentation: https://pandas.pydata.org/pandas-docs/stable/user_guide/indexing.html#returning-a-view-versus-a-copy\n",
      "  return super().rename(\n"
     ]
    }
   ],
   "source": [
    "# 4. convert the 'Post Date' column to datetime\n",
    "data['Post Date'] = data['Post Date'].astype('datetime64')\n",
    "data.rename(columns={'Post Date': 'Date'}, inplace=True)"
   ]
  },
  {
   "cell_type": "code",
   "execution_count": 26,
   "metadata": {},
   "outputs": [
    {
     "name": "stdout",
     "output_type": "stream",
     "text": [
      "Data shape: (2726, 3)\n",
      "Date range: May 07, 2018 to April 27, 2024\n"
     ]
    }
   ],
   "source": [
    "# 5. Print the shape one last time and the date range encomapssed by the data as a Month, Day, Year\n",
    "print('Data shape:', data.shape)\n",
    "date_range = data['Date'].agg([np.min, np.max])\n",
    "print('Date range:', date_range[0].strftime('%B %d, %Y'), 'to', date_range[1].strftime('%B %d, %Y'))"
   ]
  },
  {
   "cell_type": "code",
   "execution_count": 27,
   "metadata": {},
   "outputs": [],
   "source": [
    "data.to_csv('data/clean/transactions.csv', index=False)"
   ]
  },
  {
   "cell_type": "code",
   "execution_count": null,
   "metadata": {},
   "outputs": [],
   "source": []
  }
 ],
 "metadata": {
  "kernelspec": {
   "display_name": "DS",
   "language": "python",
   "name": "python3"
  },
  "language_info": {
   "codemirror_mode": {
    "name": "ipython",
    "version": 3
   },
   "file_extension": ".py",
   "mimetype": "text/x-python",
   "name": "python",
   "nbconvert_exporter": "python",
   "pygments_lexer": "ipython3",
   "version": "3.8.11"
  }
 },
 "nbformat": 4,
 "nbformat_minor": 2
}
